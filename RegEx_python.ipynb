{
 "cells": [
  {
   "cell_type": "code",
   "execution_count": 18,
   "metadata": {},
   "outputs": [],
   "source": [
    "import pandas as pd\n",
    "import re\n",
    "import tabulate"
   ]
  },
  {
   "attachments": {},
   "cell_type": "markdown",
   "metadata": {},
   "source": [
    "Create database - Some spanish words and the meaning"
   ]
  },
  {
   "cell_type": "code",
   "execution_count": 19,
   "metadata": {},
   "outputs": [],
   "source": [
    "data = [\n",
    "[\"Acendrado\",\"Acendrado es una palabra que puedes usar para describir algo 'puro. Sin mancha ni defecto'.\"],\n",
    "[\"Ademán\",\"Seguro habrás notado que las personas tenemos ciertos movimientos propios con los que nos expresamos. Este movimiento se llama ademán y la RAE lo define como 'movimiento o actitud del cuerpo o de alguna parte suya con que se manifiesta disposición, intención o sentimiento'.\"],\n",
    "[\"Agibílibus\",\"Esta palabra rara es un tanto complicada de pronunciar, pero una vez lo logras la vas a querer utilizar para describir a una que otra persona que conoces. Agibílibus o agilíbus es aquello que tiene una persona, la 'habilidad, ingenio, a veces pícaro, para desenvolverse en la vida'.\"],\n",
    "[\"Apapachar\",\"Apapachar es el acto de dar un apapacho a alguien, es decir, de dar una palmadita cariñosa o abrazo, según nos indica la RAE. Sin embargo, apapachar es una palabra extraña y absolutamente hermosa cuando la aprendemos bajo sus raíces del náhuatl, donde la palabra utilizada es papachoa y en su proceso de castellanización se transformó en apapacho y apapachar en el acto de 'acariciar el alma'.\"],\n",
    "[\"Arrebol\",\"Existe una palabra extraña para describir el efecto de la luz sobre las nubes. Esta es arrebol y se trata de 'cuando las nubes adquieren un color rojo al ser iluminadas por los rayos del Sol'.\"],\n",
    "[\"Ataraxia\",\"La ataraxia se utiliza para definir la 'imperturbabilidad, serenidad'.\"],\n",
    "[\"Barbián\",\"Si alguien te describe como una mujer barbiana tómalo como un cumplido, pues el significado de esta palabra no tiene nada que ver con bárbaro o con barba. Barbián es un adjetivo que se utiliza para describir a una persona que es 'desenvuelta, gallarda, arriscada'.\"],\n",
    "[\"Befar\",\"Befar significa burlarse de alguien. Es una palabra onomatopéyica, según los filólogos.\"],\n",
    "[\"Bonhomía\",\"Una palabra rara y diferente que se define como la 'afabilidad, sencillez, bondad y honradez en el carácter y en el comportamiento'. Proviene de una contracción de buen y hombre.\"],\n",
    "[\"Cagaprisas\",\"Y si, esta palabra extraña parece una malformación del lenguaje, pero sin embargo forma parte del castellano y está aceptada por la RAE. Cagaprisas, como se sobreentiende, describe a una persona que es impaciente, que siempre tiene prisa.\"],\n",
    "[\"Celaje\",\"Cuando el cielo tiene nubes de distintas texturas, formando un horizonte colorido, podemos usar la palabra celaje.\"],\n",
    "[\"Conflictuar\",\"Conflictuar hace referencia al acto de provocar un conflicto en algo o alguien. Es una de las palabras raras derivada del uso particular de otras palabras y aceptada hace pocos años por la RAE. Su significado también es el de 'sufrir un conflicto interno o preocupación que pueden llegar a condicionar su comportamiento' cuando es uno mismo el que habla de conflictuar.\"],\n",
    "[\"Elocuencia\",\"Elocuencia describe 'el arte de hablar de modo eficaz para deleitar o conmover'. Mientras vayas utilizando e integrando esta lista de palabras raras, alguien te va a poder describir como una chica elocuente.\"],\n",
    "[\"Epifanía\",\"Es lo que nos pasa cuando tenemos 'un momento de sorpresiva revelación'.\"],\n",
    "[\"Euroescepticismo\",\"Una nueva palabra que ha surgido debido a la crisis económica y política de los últimos años en europa. La RAE define esta palabra como 'la desconfianza hacia los proyectos políticos de la Unión Europea'.\"],\n",
    "[\"Inefable\",\"Esta es la palabra que tienes que utilizar cuando necesitas un adjetivo para referirte a algo que es tan increíble 'que no se puede explicar con palabras'.\"],\n",
    "[\"Inmarcesible\",\"Esta es una palabra rara que puedes utilizar cuando estás describiendo algo que no puede marchitarse.\"],\n",
    "[\"Isagoge\",\"Isagoge es una palabra extraña que podemos utilizar para referirnos a la parte del preámbulo, a la introducción, aunque probablemente nadie más que tú la va a entender.\"],\n",
    "[\"Limerencia\",\"Esta palabra rara va a encantar a las más románticas. Limerencia: estado mental involuntario, propio de la atracción romántica por parte de una persona hacia otra.\"],\n",
    "[\"Melifluo\",\"Otra palabra hermosa con la que te puedes referir a 'un sonido excesivamente dulce, suave o delicado'.\"],\n",
    "[\"Mondo\",\"Puedes utilizar esta bella palabra para describir algo que está 'limpio y libre de cosas añadidas o superfluas'.\"],\n",
    "[\"Nefelibata\",\"¿Tienes una amiga que para ti, siempre vive soñando en las nubes? Pues esta es la palabra rara para describirla: nefelibata,'dicho de una persona soñadora que no se apercibe de la realidad'.\"],\n",
    "[\"Ochavo\",\"Significa una octava parte, aunque se suele emplear para indicar que algo tiene poco valor.\"],\n",
    "[\"Orate\",\"También te enseñamos una nueva palabra para referirse a aquella persona que ha perdido el juicio: orate. La RAE la define como 'persona de poco juicio, moderación y prudencia'.\"],\n",
    "[\"Perenne\",\"Una palabra extraña para describir algo 'continuo, incesante, que no tiene intermisión'.\"],\n",
    "[\"Petricor\",\"Recuerdas el olor a tierra mojada, pues bien, petricor es una palabra rara para describir este olor. 'Es el nombre que recibe el olor que produce la lluvia al caer sobre suelos secos'.\"],\n",
    "[\"Resiliencia\",\"Esta es una de las palabras que probablemente has escuchado alguna vez pero que en realidad no conoces su significado. La resiliencia es 'la capacidad de adaptación de un ser vivo frente a un agente perturbador o un estado o situación adversos'. Una característica muy importante que podemos desarrollar las personas.\"],\n",
    "[\"Sabrimiento\",\"Es una palabra en desuso sinónima de sabor, aunque otra acepción sería la de hacer referencia a un chiste o chascarrillo.\"],\n",
    "[\"Sempiterno\",\"Un adjetivo que la RAE define como algo 'que durará para siempre; que, habiendo tenido principio, no tendrá fin'.\"],\n",
    "[\"Serendipia\",\"Algo espectacular que nos puede pasar a todas es la serendipia. Esta palabra rara es el 'hallazgo afortunado e inesperado que se produce cuando se está buscando otra cosa distinta'.\"],\n",
    "[\"Sonámbulo\",\"Otra de las palabras conocidas para algunas y no conocida por otras es sonámbulo y se utiliza para referirse a 'una persona que camina dormida'.\"],\n",
    "[\"Superfluo\",\"Para algunas una palabra extraña, para otras mucho más común; superfluo es un adjetivo para referirnos a algo no necesario, que está de más.\"],\n",
    "[\"Uebos\",\"Podrías pensar que se trata de una pésima ortografía para escribir la palabra huevos, pero lo cierto es que uebos existe y es por esto que hace parte de esta lista de palabras raras. Uebos quiere decir necesidad, cosa necesaria según la RAE, y proviene del latin opus. Cuando te refieres a la expresión manda huevos, la forma correcta de escribirlo sería manda uebos, pues proviene del latín ¡Mandat opus! Que traduce '¡La necesidad obliga!'\"],\n",
    "[\"Vagamundo\",\"Una de las palabras raras aceptadas hace muy pocos años por la RAE que se deriva de la palabra anteriormente usada 'vagabundo'. Vagamundo describe a aquella persona ambulante, que va de un lado a otro por el mundo, errante y sin domicilio fijo.\"],\n",
    "[\"Vulpino\",\"Vulpino se usa para designar aquello que hace referencia a los zorros. Y, de hecho, la palabra latina Vulpes significa, justamente, zorro.\"]\n",
    "]\n",
    "\n",
    "# Create the pandas DataFrame \n",
    "df = pd.DataFrame(data, columns = [\"Palabra\", \"Significado\"]) "
   ]
  },
  {
   "attachments": {},
   "cell_type": "markdown",
   "metadata": {},
   "source": [
    "Examples - Extract text"
   ]
  },
  {
   "cell_type": "code",
   "execution_count": 20,
   "metadata": {},
   "outputs": [
    {
     "data": {
      "text/html": [
       "<div>\n",
       "<style scoped>\n",
       "    .dataframe tbody tr th:only-of-type {\n",
       "        vertical-align: middle;\n",
       "    }\n",
       "\n",
       "    .dataframe tbody tr th {\n",
       "        vertical-align: top;\n",
       "    }\n",
       "\n",
       "    .dataframe thead th {\n",
       "        text-align: right;\n",
       "    }\n",
       "</style>\n",
       "<table border=\"1\" class=\"dataframe\">\n",
       "  <thead>\n",
       "    <tr style=\"text-align: right;\">\n",
       "      <th></th>\n",
       "      <th>Palabra</th>\n",
       "      <th>Significado</th>\n",
       "      <th>Meaning</th>\n",
       "    </tr>\n",
       "  </thead>\n",
       "  <tbody>\n",
       "    <tr>\n",
       "      <th>9</th>\n",
       "      <td>Cagaprisas</td>\n",
       "      <td>Y si, esta palabra extraña parece una malforma...</td>\n",
       "      <td>NaN</td>\n",
       "    </tr>\n",
       "    <tr>\n",
       "      <th>4</th>\n",
       "      <td>Arrebol</td>\n",
       "      <td>Existe una palabra extraña para describir el e...</td>\n",
       "      <td>cuando las nubes adquieren un color rojo al se...</td>\n",
       "    </tr>\n",
       "    <tr>\n",
       "      <th>30</th>\n",
       "      <td>Sonámbulo</td>\n",
       "      <td>Otra de las palabras conocidas para algunas y ...</td>\n",
       "      <td>una persona que camina dormida</td>\n",
       "    </tr>\n",
       "    <tr>\n",
       "      <th>18</th>\n",
       "      <td>Limerencia</td>\n",
       "      <td>Esta palabra rara va a encantar a las más romá...</td>\n",
       "      <td>NaN</td>\n",
       "    </tr>\n",
       "    <tr>\n",
       "      <th>33</th>\n",
       "      <td>Vagamundo</td>\n",
       "      <td>Una de las palabras raras aceptadas hace muy p...</td>\n",
       "      <td>vagabundo</td>\n",
       "    </tr>\n",
       "  </tbody>\n",
       "</table>\n",
       "</div>"
      ],
      "text/plain": [
       "       Palabra                                        Significado  \\\n",
       "9   Cagaprisas  Y si, esta palabra extraña parece una malforma...   \n",
       "4      Arrebol  Existe una palabra extraña para describir el e...   \n",
       "30   Sonámbulo  Otra de las palabras conocidas para algunas y ...   \n",
       "18  Limerencia  Esta palabra rara va a encantar a las más romá...   \n",
       "33   Vagamundo  Una de las palabras raras aceptadas hace muy p...   \n",
       "\n",
       "                                              Meaning  \n",
       "9                                                 NaN  \n",
       "4   cuando las nubes adquieren un color rojo al se...  \n",
       "30                     una persona que camina dormida  \n",
       "18                                                NaN  \n",
       "33                                          vagabundo  "
      ]
     },
     "execution_count": 20,
     "metadata": {},
     "output_type": "execute_result"
    }
   ],
   "source": [
    "#Extract text between '' on Significado\n",
    "df['Meaning'] = df['Significado'].str.extract(r\"(\\'.*\\')\", expand=False).str.strip(\"'\")\n",
    "df.sample(5)"
   ]
  },
  {
   "cell_type": "code",
   "execution_count": 21,
   "metadata": {},
   "outputs": [
    {
     "data": {
      "text/html": [
       "<div>\n",
       "<style scoped>\n",
       "    .dataframe tbody tr th:only-of-type {\n",
       "        vertical-align: middle;\n",
       "    }\n",
       "\n",
       "    .dataframe tbody tr th {\n",
       "        vertical-align: top;\n",
       "    }\n",
       "\n",
       "    .dataframe thead th {\n",
       "        text-align: right;\n",
       "    }\n",
       "</style>\n",
       "<table border=\"1\" class=\"dataframe\">\n",
       "  <thead>\n",
       "    <tr style=\"text-align: right;\">\n",
       "      <th></th>\n",
       "      <th>Palabra</th>\n",
       "      <th>First words</th>\n",
       "    </tr>\n",
       "  </thead>\n",
       "  <tbody>\n",
       "    <tr>\n",
       "      <th>9</th>\n",
       "      <td>Cagaprisas</td>\n",
       "      <td>Cagap</td>\n",
       "    </tr>\n",
       "    <tr>\n",
       "      <th>14</th>\n",
       "      <td>Euroescepticismo</td>\n",
       "      <td>Euroe</td>\n",
       "    </tr>\n",
       "    <tr>\n",
       "      <th>20</th>\n",
       "      <td>Mondo</td>\n",
       "      <td>Mondo</td>\n",
       "    </tr>\n",
       "    <tr>\n",
       "      <th>1</th>\n",
       "      <td>Ademán</td>\n",
       "      <td>Ademá</td>\n",
       "    </tr>\n",
       "    <tr>\n",
       "      <th>26</th>\n",
       "      <td>Resiliencia</td>\n",
       "      <td>Resil</td>\n",
       "    </tr>\n",
       "  </tbody>\n",
       "</table>\n",
       "</div>"
      ],
      "text/plain": [
       "             Palabra First words\n",
       "9         Cagaprisas       Cagap\n",
       "14  Euroescepticismo       Euroe\n",
       "20             Mondo       Mondo\n",
       "1             Ademán       Ademá\n",
       "26       Resiliencia       Resil"
      ]
     },
     "execution_count": 21,
     "metadata": {},
     "output_type": "execute_result"
    }
   ],
   "source": [
    "#extract 5 first words of palabra\n",
    "df['First words'] = df['Palabra'].str.extract(r'(^\\w{5})')\n",
    "df[['Palabra','First words']].sample(5)"
   ]
  },
  {
   "attachments": {},
   "cell_type": "markdown",
   "metadata": {},
   "source": [
    "Filters"
   ]
  },
  {
   "cell_type": "code",
   "execution_count": 22,
   "metadata": {},
   "outputs": [
    {
     "data": {
      "text/html": [
       "<div>\n",
       "<style scoped>\n",
       "    .dataframe tbody tr th:only-of-type {\n",
       "        vertical-align: middle;\n",
       "    }\n",
       "\n",
       "    .dataframe tbody tr th {\n",
       "        vertical-align: top;\n",
       "    }\n",
       "\n",
       "    .dataframe thead th {\n",
       "        text-align: right;\n",
       "    }\n",
       "</style>\n",
       "<table border=\"1\" class=\"dataframe\">\n",
       "  <thead>\n",
       "    <tr style=\"text-align: right;\">\n",
       "      <th></th>\n",
       "      <th>Palabra</th>\n",
       "      <th>Meaning</th>\n",
       "    </tr>\n",
       "  </thead>\n",
       "  <tbody>\n",
       "    <tr>\n",
       "      <th>27</th>\n",
       "      <td>Sabrimiento</td>\n",
       "      <td>NaN</td>\n",
       "    </tr>\n",
       "    <tr>\n",
       "      <th>28</th>\n",
       "      <td>Sempiterno</td>\n",
       "      <td>que durará para siempre; que, habiendo tenido ...</td>\n",
       "    </tr>\n",
       "    <tr>\n",
       "      <th>30</th>\n",
       "      <td>Sonámbulo</td>\n",
       "      <td>una persona que camina dormida</td>\n",
       "    </tr>\n",
       "    <tr>\n",
       "      <th>31</th>\n",
       "      <td>Superfluo</td>\n",
       "      <td>NaN</td>\n",
       "    </tr>\n",
       "  </tbody>\n",
       "</table>\n",
       "</div>"
      ],
      "text/plain": [
       "        Palabra                                            Meaning\n",
       "27  Sabrimiento                                                NaN\n",
       "28   Sempiterno  que durará para siempre; que, habiendo tenido ...\n",
       "30    Sonámbulo                     una persona que camina dormida\n",
       "31    Superfluo                                                NaN"
      ]
     },
     "execution_count": 22,
     "metadata": {},
     "output_type": "execute_result"
    }
   ],
   "source": [
    "#Using count - int\n",
    "df[df['Palabra'].str.count(r'^S[\\w]*o$')>0][['Palabra','Meaning']]"
   ]
  },
  {
   "cell_type": "code",
   "execution_count": 23,
   "metadata": {},
   "outputs": [
    {
     "data": {
      "text/html": [
       "<div>\n",
       "<style scoped>\n",
       "    .dataframe tbody tr th:only-of-type {\n",
       "        vertical-align: middle;\n",
       "    }\n",
       "\n",
       "    .dataframe tbody tr th {\n",
       "        vertical-align: top;\n",
       "    }\n",
       "\n",
       "    .dataframe thead th {\n",
       "        text-align: right;\n",
       "    }\n",
       "</style>\n",
       "<table border=\"1\" class=\"dataframe\">\n",
       "  <thead>\n",
       "    <tr style=\"text-align: right;\">\n",
       "      <th></th>\n",
       "      <th>Palabra</th>\n",
       "      <th>Meaning</th>\n",
       "    </tr>\n",
       "  </thead>\n",
       "  <tbody>\n",
       "    <tr>\n",
       "      <th>10</th>\n",
       "      <td>Celaje</td>\n",
       "      <td>NaN</td>\n",
       "    </tr>\n",
       "    <tr>\n",
       "      <th>15</th>\n",
       "      <td>Inefable</td>\n",
       "      <td>que no se puede explicar con palabras</td>\n",
       "    </tr>\n",
       "    <tr>\n",
       "      <th>16</th>\n",
       "      <td>Inmarcesible</td>\n",
       "      <td>NaN</td>\n",
       "    </tr>\n",
       "    <tr>\n",
       "      <th>17</th>\n",
       "      <td>Isagoge</td>\n",
       "      <td>NaN</td>\n",
       "    </tr>\n",
       "    <tr>\n",
       "      <th>23</th>\n",
       "      <td>Orate</td>\n",
       "      <td>persona de poco juicio, moderación y prudencia</td>\n",
       "    </tr>\n",
       "    <tr>\n",
       "      <th>24</th>\n",
       "      <td>Perenne</td>\n",
       "      <td>continuo, incesante, que no tiene intermisión</td>\n",
       "    </tr>\n",
       "  </tbody>\n",
       "</table>\n",
       "</div>"
      ],
      "text/plain": [
       "         Palabra                                         Meaning\n",
       "10        Celaje                                             NaN\n",
       "15      Inefable           que no se puede explicar con palabras\n",
       "16  Inmarcesible                                             NaN\n",
       "17       Isagoge                                             NaN\n",
       "23         Orate  persona de poco juicio, moderación y prudencia\n",
       "24       Perenne   continuo, incesante, que no tiene intermisión"
      ]
     },
     "execution_count": 23,
     "metadata": {},
     "output_type": "execute_result"
    }
   ],
   "source": [
    "#Using match - boolean\n",
    "df[df['Palabra'].str.match(r'[\\w]+e$')==True][['Palabra','Meaning']]"
   ]
  },
  {
   "cell_type": "code",
   "execution_count": 24,
   "metadata": {},
   "outputs": [
    {
     "data": {
      "text/html": [
       "<div>\n",
       "<style scoped>\n",
       "    .dataframe tbody tr th:only-of-type {\n",
       "        vertical-align: middle;\n",
       "    }\n",
       "\n",
       "    .dataframe tbody tr th {\n",
       "        vertical-align: top;\n",
       "    }\n",
       "\n",
       "    .dataframe thead th {\n",
       "        text-align: right;\n",
       "    }\n",
       "</style>\n",
       "<table border=\"1\" class=\"dataframe\">\n",
       "  <thead>\n",
       "    <tr style=\"text-align: right;\">\n",
       "      <th></th>\n",
       "      <th>Palabra</th>\n",
       "      <th>Significado</th>\n",
       "    </tr>\n",
       "  </thead>\n",
       "  <tbody>\n",
       "    <tr>\n",
       "      <th>22</th>\n",
       "      <td>Ochavo</td>\n",
       "      <td>Significa una octava parte, aunque se suele em...</td>\n",
       "    </tr>\n",
       "    <tr>\n",
       "      <th>33</th>\n",
       "      <td>Vagamundo</td>\n",
       "      <td>Una de las palabras raras aceptadas hace muy p...</td>\n",
       "    </tr>\n",
       "    <tr>\n",
       "      <th>34</th>\n",
       "      <td>Vulpino</td>\n",
       "      <td>Vulpino se usa para designar aquello que hace ...</td>\n",
       "    </tr>\n",
       "  </tbody>\n",
       "</table>\n",
       "</div>"
      ],
      "text/plain": [
       "      Palabra                                        Significado\n",
       "22     Ochavo  Significa una octava parte, aunque se suele em...\n",
       "33  Vagamundo  Una de las palabras raras aceptadas hace muy p...\n",
       "34    Vulpino  Vulpino se usa para designar aquello que hace ..."
      ]
     },
     "execution_count": 24,
     "metadata": {},
     "output_type": "execute_result"
    }
   ],
   "source": [
    "#Using findall - lists\n",
    "palabras = pd.Series(df['Palabra'])\n",
    "palabras = [itm[0] for itm in palabras.str.findall('(\\w*v\\w*)', flags=re.IGNORECASE) if len(itm)>0]\n",
    "df[df['Palabra'].isin(palabras)][['Palabra','Significado']]"
   ]
  },
  {
   "cell_type": "code",
   "execution_count": 25,
   "metadata": {},
   "outputs": [
    {
     "data": {
      "text/html": [
       "<div>\n",
       "<style scoped>\n",
       "    .dataframe tbody tr th:only-of-type {\n",
       "        vertical-align: middle;\n",
       "    }\n",
       "\n",
       "    .dataframe tbody tr th {\n",
       "        vertical-align: top;\n",
       "    }\n",
       "\n",
       "    .dataframe thead th {\n",
       "        text-align: right;\n",
       "    }\n",
       "</style>\n",
       "<table border=\"1\" class=\"dataframe\">\n",
       "  <thead>\n",
       "    <tr style=\"text-align: right;\">\n",
       "      <th></th>\n",
       "      <th>Palabra</th>\n",
       "      <th>Significado</th>\n",
       "    </tr>\n",
       "  </thead>\n",
       "  <tbody>\n",
       "    <tr>\n",
       "      <th>15</th>\n",
       "      <td>Inefable</td>\n",
       "      <td>Esta es la palabra que tienes que utilizar cua...</td>\n",
       "    </tr>\n",
       "    <tr>\n",
       "      <th>16</th>\n",
       "      <td>Inmarcesible</td>\n",
       "      <td>Esta es una palabra rara que puedes utilizar c...</td>\n",
       "    </tr>\n",
       "    <tr>\n",
       "      <th>17</th>\n",
       "      <td>Isagoge</td>\n",
       "      <td>Isagoge es una palabra extraña que podemos uti...</td>\n",
       "    </tr>\n",
       "  </tbody>\n",
       "</table>\n",
       "</div>"
      ],
      "text/plain": [
       "         Palabra                                        Significado\n",
       "15      Inefable  Esta es la palabra que tienes que utilizar cua...\n",
       "16  Inmarcesible  Esta es una palabra rara que puedes utilizar c...\n",
       "17       Isagoge  Isagoge es una palabra extraña que podemos uti..."
      ]
     },
     "execution_count": 25,
     "metadata": {},
     "output_type": "execute_result"
    }
   ],
   "source": [
    "#Using contains\n",
    "df[df['Palabra'].str.contains('^I.*e$')==True][['Palabra','Significado']]"
   ]
  }
 ],
 "metadata": {
  "kernelspec": {
   "display_name": "ETL and hierarchies",
   "language": "python",
   "name": "etl_codelco"
  },
  "language_info": {
   "codemirror_mode": {
    "name": "ipython",
    "version": 3
   },
   "file_extension": ".py",
   "mimetype": "text/x-python",
   "name": "python",
   "nbconvert_exporter": "python",
   "pygments_lexer": "ipython3",
   "version": "3.10.4"
  },
  "orig_nbformat": 4
 },
 "nbformat": 4,
 "nbformat_minor": 2
}
