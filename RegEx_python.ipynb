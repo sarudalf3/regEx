{
 "cells": [
  {
   "cell_type": "code",
   "execution_count": 16,
   "metadata": {},
   "outputs": [
    {
     "name": "stdout",
     "output_type": "stream",
     "text": [
      "Requirement already satisfied: tabulate in c:\\users\\sarud\\.pyenv\\etl_codelco\\lib\\site-packages (0.9.0)\n"
     ]
    },
    {
     "name": "stderr",
     "output_type": "stream",
     "text": [
      "WARNING: You are using pip version 22.0.4; however, version 22.3.1 is available.\n",
      "You should consider upgrading via the 'C:\\Users\\sarud\\.pyenv\\ETL_Codelco\\Scripts\\python.exe -m pip install --upgrade pip' command.\n"
     ]
    }
   ],
   "source": [
    "import pandas as pd\n",
    "import re\n",
    "!pip install tabulate\n",
    "import tabulate"
   ]
  },
  {
   "attachments": {},
   "cell_type": "markdown",
   "metadata": {},
   "source": [
    "Import database"
   ]
  },
  {
   "cell_type": "code",
   "execution_count": 17,
   "metadata": {},
   "outputs": [],
   "source": [
    "# initialize list of lists \n",
    "data = [\n",
    "[\"Acendrado\",\"Acendrado es una palabra que puedes usar para describir algo 'puro. Sin mancha ni defecto'.\"],\n",
    "[\"Ademán\",\"Seguro habrás notado que las personas tenemos ciertos movimientos propios con los que nos expresamos. Este movimiento se llama ademán y la RAE lo define como 'movimiento o actitud del cuerpo o de alguna parte suya con que se manifiesta disposición, intención o sentimiento'.\"],\n",
    "[\"Agibílibus\",\"Esta palabra rara es un tanto complicada de pronunciar, pero una vez lo logras la vas a querer utilizar para describir a una que otra persona que conoces. Agibílibus o agilíbus es aquello que tiene una persona, la 'habilidad, ingenio, a veces pícaro, para desenvolverse en la vida'.\"],\n",
    "[\"Apapachar\",\"Apapachar es el acto de dar un apapacho a alguien, es decir, de dar una palmadita cariñosa o abrazo, según nos indica la RAE. Sin embargo, apapachar es una palabra extraña y absolutamente hermosa cuando la aprendemos bajo sus raíces del náhuatl, donde la palabra utilizada es papachoa y en su proceso de castellanización se transformó en apapacho y apapachar en el acto de 'acariciar el alma'.\"],\n",
    "[\"Arrebol\",\"Existe una palabra extraña para describir el efecto de la luz sobre las nubes. Esta es arrebol y se trata de 'cuando las nubes adquieren un color rojo al ser iluminadas por los rayos del Sol'.\"],\n",
    "[\"Ataraxia\",\"La ataraxia se utiliza para definir la 'imperturbabilidad, serenidad'.\"],\n",
    "[\"Barbián\",\"Si alguien te describe como una mujer barbiana tómalo como un cumplido, pues el significado de esta palabra no tiene nada que ver con bárbaro o con barba. Barbián es un adjetivo que se utiliza para describir a una persona que es 'desenvuelta, gallarda, arriscada'.\"],\n",
    "[\"Befar\",\"Befar significa burlarse de alguien. Es una palabra onomatopéyica, según los filólogos.\"],\n",
    "[\"Bonhomía\",\"Una palabra rara y diferente que se define como la 'afabilidad, sencillez, bondad y honradez en el carácter y en el comportamiento'. Proviene de una contracción de buen y hombre.\"],\n",
    "[\"Cagaprisas\",\"Y si, esta palabra extraña parece una malformación del lenguaje, pero sin embargo forma parte del castellano y está aceptada por la RAE. Cagaprisas, como se sobreentiende, describe a una persona que es impaciente, que siempre tiene prisa.\"],\n",
    "[\"Celaje\",\"Cuando el cielo tiene nubes de distintas texturas, formando un horizonte colorido, podemos usar la palabra celaje.\"],\n",
    "[\"Conflictuar\",\"Conflictuar hace referencia al acto de provocar un conflicto en algo o alguien. Es una de las palabras raras derivada del uso particular de otras palabras y aceptada hace pocos años por la RAE. Su significado también es el de 'sufrir un conflicto interno o preocupación que pueden llegar a condicionar su comportamiento' cuando es uno mismo el que habla de conflictuar.\"],\n",
    "[\"Elocuencia\",\"Elocuencia describe 'el arte de hablar de modo eficaz para deleitar o conmover'. Mientras vayas utilizando e integrando esta lista de palabras raras, alguien te va a poder describir como una chica elocuente.\"],\n",
    "[\"Epifanía\",\"Es lo que nos pasa cuando tenemos 'un momento de sorpresiva revelación'.\"],\n",
    "[\"Euroescepticismo\",\"Una nueva palabra que ha surgido debido a la crisis económica y política de los últimos años en europa. La RAE define esta palabra como 'la desconfianza hacia los proyectos políticos de la Unión Europea'.\"],\n",
    "[\"Inefable\",\"Esta es la palabra que tienes que utilizar cuando necesitas un adjetivo para referirte a algo que es tan increíble 'que no se puede explicar con palabras'.\"],\n",
    "[\"Inmarcesible\",\"Esta es una palabra rara que puedes utilizar cuando estás describiendo algo que no puede marchitarse.\"],\n",
    "[\"Isagoge\",\"Isagoge es una palabra extraña que podemos utilizar para referirnos a la parte del preámbulo, a la introducción, aunque probablemente nadie más que tú la va a entender.\"],\n",
    "[\"Limerencia\",\"Esta palabra rara va a encantar a las más románticas. Limerencia: estado mental involuntario, propio de la atracción romántica por parte de una persona hacia otra.\"],\n",
    "[\"Melifluo\",\"Otra palabra hermosa con la que te puedes referir a 'un sonido excesivamente dulce, suave o delicado'.\"],\n",
    "[\"Mondo\",\"Puedes utilizar esta bella palabra para describir algo que está 'limpio y libre de cosas añadidas o superfluas'.\"],\n",
    "[\"Nefelibata\",\"¿Tienes una amiga que para ti, siempre vive soñando en las nubes? Pues esta es la palabra rara para describirla: nefelibata,'dicho de una persona soñadora que no se apercibe de la realidad'.\"],\n",
    "[\"Ochavo\",\"Significa una octava parte, aunque se suele emplear para indicar que algo tiene poco valor.\"],\n",
    "[\"Orate\",\"También te enseñamos una nueva palabra para referirse a aquella persona que ha perdido el juicio: orate. La RAE la define como 'persona de poco juicio, moderación y prudencia'.\"],\n",
    "[\"Perenne\",\"Una palabra extraña para describir algo 'continuo, incesante, que no tiene intermisión'.\"],\n",
    "[\"Petricor\",\"Recuerdas el olor a tierra mojada, pues bien, petricor es una palabra rara para describir este olor. 'Es el nombre que recibe el olor que produce la lluvia al caer sobre suelos secos'.\"],\n",
    "[\"Resiliencia\",\"Esta es una de las palabras que probablemente has escuchado alguna vez pero que en realidad no conoces su significado. La resiliencia es 'la capacidad de adaptación de un ser vivo frente a un agente perturbador o un estado o situación adversos'. Una característica muy importante que podemos desarrollar las personas.\"],\n",
    "[\"Sabrimiento\",\"Es una palabra en desuso sinónima de sabor, aunque otra acepción sería la de hacer referencia a un chiste o chascarrillo.\"],\n",
    "[\"Sempiterno\",\"Un adjetivo que la RAE define como algo 'que durará para siempre; que, habiendo tenido principio, no tendrá fin'.\"],\n",
    "[\"Serendipia\",\"Algo espectacular que nos puede pasar a todas es la serendipia. Esta palabra rara es el 'hallazgo afortunado e inesperado que se produce cuando se está buscando otra cosa distinta'.\"],\n",
    "[\"Sonámbulo\",\"Otra de las palabras conocidas para algunas y no conocida por otras es sonámbulo y se utiliza para referirse a 'una persona que camina dormida'.\"],\n",
    "[\"Superfluo\",\"Para algunas una palabra extraña, para otras mucho más común; superfluo es un adjetivo para referirnos a algo no necesario, que está de más.\"],\n",
    "[\"Uebos\",\"Podrías pensar que se trata de una pésima ortografía para escribir la palabra huevos, pero lo cierto es que uebos existe y es por esto que hace parte de esta lista de palabras raras. Uebos quiere decir necesidad, cosa necesaria según la RAE, y proviene del latin opus. Cuando te refieres a la expresión manda huevos, la forma correcta de escribirlo sería manda uebos, pues proviene del latín ¡Mandat opus! Que traduce '¡La necesidad obliga!'\"],\n",
    "[\"Vagamundo\",\"Una de las palabras raras aceptadas hace muy pocos años por la RAE que se deriva de la palabra anteriormente usada 'vagabundo'. Vagamundo describe a aquella persona ambulante, que va de un lado a otro por el mundo, errante y sin domicilio fijo.\"],\n",
    "[\"Vulpino\",\"Vulpino se usa para designar aquello que hace referencia a los zorros. Y, de hecho, la palabra latina Vulpes significa, justamente, zorro.\"]\n",
    "]\n",
    "df = pd.DataFrame(data, columns = [\"Palabra\", \"Significado\"]) # Create the pandas DataFrame "
   ]
  },
  {
   "cell_type": "code",
   "execution_count": 18,
   "metadata": {},
   "outputs": [
    {
     "name": "stdout",
     "output_type": "stream",
     "text": [
      "| Palabra   | Significado                                                                                                                                                                                      |\n",
      "|:----------|:-------------------------------------------------------------------------------------------------------------------------------------------------------------------------------------------------|\n",
      "| Epifanía  | Es lo que nos pasa cuando tenemos 'un momento de sorpresiva revelación'.                                                                                                                         |\n",
      "| Arrebol   | Existe una palabra extraña para describir el efecto de la luz sobre las nubes. Esta es arrebol y se trata de 'cuando las nubes adquieren un color rojo al ser iluminadas por los rayos del Sol'. |\n",
      "| Ochavo    | Significa una octava parte, aunque se suele emplear para indicar que algo tiene poco valor.                                                                                                      |\n",
      "| Sonámbulo | Otra de las palabras conocidas para algunas y no conocida por otras es sonámbulo y se utiliza para referirse a 'una persona que camina dormida'.                                                 |\n",
      "| Celaje    | Cuando el cielo tiene nubes de distintas texturas, formando un horizonte colorido, podemos usar la palabra celaje.                                                                               |\n"
     ]
    }
   ],
   "source": [
    "print(df.sample(5).to_markdown(index=False))"
   ]
  },
  {
   "attachments": {},
   "cell_type": "markdown",
   "metadata": {},
   "source": [
    "Examples"
   ]
  },
  {
   "cell_type": "code",
   "execution_count": 56,
   "metadata": {},
   "outputs": [
    {
     "data": {
      "text/html": [
       "<div>\n",
       "<style scoped>\n",
       "    .dataframe tbody tr th:only-of-type {\n",
       "        vertical-align: middle;\n",
       "    }\n",
       "\n",
       "    .dataframe tbody tr th {\n",
       "        vertical-align: top;\n",
       "    }\n",
       "\n",
       "    .dataframe thead th {\n",
       "        text-align: right;\n",
       "    }\n",
       "</style>\n",
       "<table border=\"1\" class=\"dataframe\">\n",
       "  <thead>\n",
       "    <tr style=\"text-align: right;\">\n",
       "      <th></th>\n",
       "      <th>Palabra</th>\n",
       "      <th>Significado</th>\n",
       "      <th>Meaning</th>\n",
       "      <th>first_five_Letter</th>\n",
       "    </tr>\n",
       "  </thead>\n",
       "  <tbody>\n",
       "    <tr>\n",
       "      <th>5</th>\n",
       "      <td>Ataraxia</td>\n",
       "      <td>La ataraxia se utiliza para definir la 'impert...</td>\n",
       "      <td>imperturbabilidad, serenidad</td>\n",
       "      <td>Atara</td>\n",
       "    </tr>\n",
       "    <tr>\n",
       "      <th>14</th>\n",
       "      <td>Euroescepticismo</td>\n",
       "      <td>Una nueva palabra que ha surgido debido a la c...</td>\n",
       "      <td>la desconfianza hacia los proyectos políticos ...</td>\n",
       "      <td>Euroe</td>\n",
       "    </tr>\n",
       "    <tr>\n",
       "      <th>22</th>\n",
       "      <td>Ochavo</td>\n",
       "      <td>Significa una octava parte, aunque se suele em...</td>\n",
       "      <td>NaN</td>\n",
       "      <td>Ochav</td>\n",
       "    </tr>\n",
       "    <tr>\n",
       "      <th>19</th>\n",
       "      <td>Melifluo</td>\n",
       "      <td>Otra palabra hermosa con la que te puedes refe...</td>\n",
       "      <td>un sonido excesivamente dulce, suave o delicado</td>\n",
       "      <td>Melif</td>\n",
       "    </tr>\n",
       "    <tr>\n",
       "      <th>29</th>\n",
       "      <td>Serendipia</td>\n",
       "      <td>Algo espectacular que nos puede pasar a todas ...</td>\n",
       "      <td>hallazgo afortunado e inesperado que se produc...</td>\n",
       "      <td>Seren</td>\n",
       "    </tr>\n",
       "  </tbody>\n",
       "</table>\n",
       "</div>"
      ],
      "text/plain": [
       "             Palabra                                        Significado  \\\n",
       "5           Ataraxia  La ataraxia se utiliza para definir la 'impert...   \n",
       "14  Euroescepticismo  Una nueva palabra que ha surgido debido a la c...   \n",
       "22            Ochavo  Significa una octava parte, aunque se suele em...   \n",
       "19          Melifluo  Otra palabra hermosa con la que te puedes refe...   \n",
       "29        Serendipia  Algo espectacular que nos puede pasar a todas ...   \n",
       "\n",
       "                                              Meaning first_five_Letter  \n",
       "5                        imperturbabilidad, serenidad             Atara  \n",
       "14  la desconfianza hacia los proyectos políticos ...             Euroe  \n",
       "22                                                NaN             Ochav  \n",
       "19    un sonido excesivamente dulce, suave o delicado             Melif  \n",
       "29  hallazgo afortunado e inesperado que se produc...             Seren  "
      ]
     },
     "execution_count": 56,
     "metadata": {},
     "output_type": "execute_result"
    }
   ],
   "source": [
    "#extract colums\n",
    "df['Meaning'] = df['Significado'].str.extract(r\"(\\'.*\\')\", expand=False).str.strip(\"'\")\n",
    "df.sample(5)"
   ]
  },
  {
   "cell_type": "code",
   "execution_count": 55,
   "metadata": {},
   "outputs": [
    {
     "data": {
      "text/html": [
       "<div>\n",
       "<style scoped>\n",
       "    .dataframe tbody tr th:only-of-type {\n",
       "        vertical-align: middle;\n",
       "    }\n",
       "\n",
       "    .dataframe tbody tr th {\n",
       "        vertical-align: top;\n",
       "    }\n",
       "\n",
       "    .dataframe thead th {\n",
       "        text-align: right;\n",
       "    }\n",
       "</style>\n",
       "<table border=\"1\" class=\"dataframe\">\n",
       "  <thead>\n",
       "    <tr style=\"text-align: right;\">\n",
       "      <th></th>\n",
       "      <th>Palabra</th>\n",
       "      <th>Significado</th>\n",
       "      <th>Meaning</th>\n",
       "      <th>first_five_Letter</th>\n",
       "    </tr>\n",
       "  </thead>\n",
       "  <tbody>\n",
       "    <tr>\n",
       "      <th>0</th>\n",
       "      <td>Acendrado</td>\n",
       "      <td>Acendrado es una palabra que puedes usar para ...</td>\n",
       "      <td>'puro. Sin mancha ni defecto'</td>\n",
       "      <td>Acend</td>\n",
       "    </tr>\n",
       "    <tr>\n",
       "      <th>22</th>\n",
       "      <td>Ochavo</td>\n",
       "      <td>Significa una octava parte, aunque se suele em...</td>\n",
       "      <td>NaN</td>\n",
       "      <td>Ochav</td>\n",
       "    </tr>\n",
       "    <tr>\n",
       "      <th>2</th>\n",
       "      <td>Agibílibus</td>\n",
       "      <td>Esta palabra rara es un tanto complicada de pr...</td>\n",
       "      <td>'habilidad, ingenio, a veces pícaro, para dese...</td>\n",
       "      <td>Agibí</td>\n",
       "    </tr>\n",
       "    <tr>\n",
       "      <th>23</th>\n",
       "      <td>Orate</td>\n",
       "      <td>También te enseñamos una nueva palabra para re...</td>\n",
       "      <td>'persona de poco juicio, moderación y prudencia'</td>\n",
       "      <td>Orate</td>\n",
       "    </tr>\n",
       "    <tr>\n",
       "      <th>31</th>\n",
       "      <td>Superfluo</td>\n",
       "      <td>Para algunas una palabra extraña, para otras m...</td>\n",
       "      <td>NaN</td>\n",
       "      <td>Super</td>\n",
       "    </tr>\n",
       "  </tbody>\n",
       "</table>\n",
       "</div>"
      ],
      "text/plain": [
       "       Palabra                                        Significado  \\\n",
       "0    Acendrado  Acendrado es una palabra que puedes usar para ...   \n",
       "22      Ochavo  Significa una octava parte, aunque se suele em...   \n",
       "2   Agibílibus  Esta palabra rara es un tanto complicada de pr...   \n",
       "23       Orate  También te enseñamos una nueva palabra para re...   \n",
       "31   Superfluo  Para algunas una palabra extraña, para otras m...   \n",
       "\n",
       "                                              Meaning first_five_Letter  \n",
       "0                       'puro. Sin mancha ni defecto'             Acend  \n",
       "22                                                NaN             Ochav  \n",
       "2   'habilidad, ingenio, a veces pícaro, para dese...             Agibí  \n",
       "23   'persona de poco juicio, moderación y prudencia'             Orate  \n",
       "31                                                NaN             Super  "
      ]
     },
     "execution_count": 55,
     "metadata": {},
     "output_type": "execute_result"
    }
   ],
   "source": [
    "#extract 5 first words of palabra\n",
    "df['first_five_Letter'] = df['Palabra'].str.extract(r'(^\\w{5})')\n",
    "df.sample(5)"
   ]
  },
  {
   "cell_type": "code",
   "execution_count": 61,
   "metadata": {},
   "outputs": [
    {
     "data": {
      "text/html": [
       "<div>\n",
       "<style scoped>\n",
       "    .dataframe tbody tr th:only-of-type {\n",
       "        vertical-align: middle;\n",
       "    }\n",
       "\n",
       "    .dataframe tbody tr th {\n",
       "        vertical-align: top;\n",
       "    }\n",
       "\n",
       "    .dataframe thead th {\n",
       "        text-align: right;\n",
       "    }\n",
       "</style>\n",
       "<table border=\"1\" class=\"dataframe\">\n",
       "  <thead>\n",
       "    <tr style=\"text-align: right;\">\n",
       "      <th></th>\n",
       "      <th>Palabra</th>\n",
       "      <th>Significado</th>\n",
       "      <th>Meaning</th>\n",
       "      <th>first_five_Letter</th>\n",
       "    </tr>\n",
       "  </thead>\n",
       "  <tbody>\n",
       "    <tr>\n",
       "      <th>27</th>\n",
       "      <td>Sabrimiento</td>\n",
       "      <td>Es una palabra en desuso sinónima de sabor, au...</td>\n",
       "      <td>NaN</td>\n",
       "      <td>Sabri</td>\n",
       "    </tr>\n",
       "    <tr>\n",
       "      <th>28</th>\n",
       "      <td>Sempiterno</td>\n",
       "      <td>Un adjetivo que la RAE define como algo 'que d...</td>\n",
       "      <td>que durará para siempre; que, habiendo tenido ...</td>\n",
       "      <td>Sempi</td>\n",
       "    </tr>\n",
       "    <tr>\n",
       "      <th>30</th>\n",
       "      <td>Sonámbulo</td>\n",
       "      <td>Otra de las palabras conocidas para algunas y ...</td>\n",
       "      <td>una persona que camina dormida</td>\n",
       "      <td>Sonám</td>\n",
       "    </tr>\n",
       "    <tr>\n",
       "      <th>31</th>\n",
       "      <td>Superfluo</td>\n",
       "      <td>Para algunas una palabra extraña, para otras m...</td>\n",
       "      <td>NaN</td>\n",
       "      <td>Super</td>\n",
       "    </tr>\n",
       "  </tbody>\n",
       "</table>\n",
       "</div>"
      ],
      "text/plain": [
       "        Palabra                                        Significado  \\\n",
       "27  Sabrimiento  Es una palabra en desuso sinónima de sabor, au...   \n",
       "28   Sempiterno  Un adjetivo que la RAE define como algo 'que d...   \n",
       "30    Sonámbulo  Otra de las palabras conocidas para algunas y ...   \n",
       "31    Superfluo  Para algunas una palabra extraña, para otras m...   \n",
       "\n",
       "                                              Meaning first_five_Letter  \n",
       "27                                                NaN             Sabri  \n",
       "28  que durará para siempre; que, habiendo tenido ...             Sempi  \n",
       "30                     una persona que camina dormida             Sonám  \n",
       "31                                                NaN             Super  "
      ]
     },
     "execution_count": 61,
     "metadata": {},
     "output_type": "execute_result"
    }
   ],
   "source": [
    "df[df['Palabra'].str.count(r'^S[\\w]*o$')>0]\n",
    "#df[df['Country (region)'].str.count('^[pP].*')>0]\n"
   ]
  }
 ],
 "metadata": {
  "kernelspec": {
   "display_name": "ETL and hierarchies",
   "language": "python",
   "name": "etl_codelco"
  },
  "language_info": {
   "codemirror_mode": {
    "name": "ipython",
    "version": 3
   },
   "file_extension": ".py",
   "mimetype": "text/x-python",
   "name": "python",
   "nbconvert_exporter": "python",
   "pygments_lexer": "ipython3",
   "version": "3.10.4"
  },
  "orig_nbformat": 4
 },
 "nbformat": 4,
 "nbformat_minor": 2
}
